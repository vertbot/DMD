{
 "cells": [
  {
   "cell_type": "code",
   "execution_count": 17,
   "metadata": {},
   "outputs": [
    {
     "ename": "AttributeError",
     "evalue": "'Series' object has no attribute 'columns'",
     "output_type": "error",
     "traceback": [
      "\u001b[1;31m---------------------------------------------------------------------------\u001b[0m",
      "\u001b[1;31mAttributeError\u001b[0m                            Traceback (most recent call last)",
      "\u001b[1;32m<ipython-input-17-ab342a463b83>\u001b[0m in \u001b[0;36m<module>\u001b[1;34m\u001b[0m\n\u001b[0;32m     28\u001b[0m \u001b[0mfull_df\u001b[0m\u001b[1;33m.\u001b[0m\u001b[0mcolumns\u001b[0m\u001b[1;33m\u001b[0m\u001b[1;33m\u001b[0m\u001b[0m\n\u001b[0;32m     29\u001b[0m \u001b[0mschoolsdf\u001b[0m \u001b[1;33m=\u001b[0m \u001b[0mfull_df\u001b[0m\u001b[1;33m[\u001b[0m\u001b[1;34m'Please list other universities you were accepted to and were considering in your application process:'\u001b[0m\u001b[1;33m]\u001b[0m\u001b[1;33m\u001b[0m\u001b[1;33m\u001b[0m\u001b[0m\n\u001b[1;32m---> 30\u001b[1;33m \u001b[0mschoolsdf\u001b[0m\u001b[1;33m.\u001b[0m\u001b[0mcolumns\u001b[0m\u001b[1;33m\u001b[0m\u001b[1;33m\u001b[0m\u001b[0m\n\u001b[0m\u001b[0;32m     31\u001b[0m \u001b[1;31m#schoolsdf['Please list other universities you were accepted to and were considering in your application process:'].str.split(',', expand=True)\u001b[0m\u001b[1;33m\u001b[0m\u001b[1;33m\u001b[0m\u001b[1;33m\u001b[0m\u001b[0m\n\u001b[0;32m     32\u001b[0m \u001b[1;33m\u001b[0m\u001b[0m\n",
      "\u001b[1;32m~\\AppData\\Local\\Programs\\Python\\Python39\\lib\\site-packages\\pandas\\core\\generic.py\u001b[0m in \u001b[0;36m__getattr__\u001b[1;34m(self, name)\u001b[0m\n\u001b[0;32m   5460\u001b[0m             \u001b[1;32mif\u001b[0m \u001b[0mself\u001b[0m\u001b[1;33m.\u001b[0m\u001b[0m_info_axis\u001b[0m\u001b[1;33m.\u001b[0m\u001b[0m_can_hold_identifiers_and_holds_name\u001b[0m\u001b[1;33m(\u001b[0m\u001b[0mname\u001b[0m\u001b[1;33m)\u001b[0m\u001b[1;33m:\u001b[0m\u001b[1;33m\u001b[0m\u001b[1;33m\u001b[0m\u001b[0m\n\u001b[0;32m   5461\u001b[0m                 \u001b[1;32mreturn\u001b[0m \u001b[0mself\u001b[0m\u001b[1;33m[\u001b[0m\u001b[0mname\u001b[0m\u001b[1;33m]\u001b[0m\u001b[1;33m\u001b[0m\u001b[1;33m\u001b[0m\u001b[0m\n\u001b[1;32m-> 5462\u001b[1;33m             \u001b[1;32mreturn\u001b[0m \u001b[0mobject\u001b[0m\u001b[1;33m.\u001b[0m\u001b[0m__getattribute__\u001b[0m\u001b[1;33m(\u001b[0m\u001b[0mself\u001b[0m\u001b[1;33m,\u001b[0m \u001b[0mname\u001b[0m\u001b[1;33m)\u001b[0m\u001b[1;33m\u001b[0m\u001b[1;33m\u001b[0m\u001b[0m\n\u001b[0m\u001b[0;32m   5463\u001b[0m \u001b[1;33m\u001b[0m\u001b[0m\n\u001b[0;32m   5464\u001b[0m     \u001b[1;32mdef\u001b[0m \u001b[0m__setattr__\u001b[0m\u001b[1;33m(\u001b[0m\u001b[0mself\u001b[0m\u001b[1;33m,\u001b[0m \u001b[0mname\u001b[0m\u001b[1;33m:\u001b[0m \u001b[0mstr\u001b[0m\u001b[1;33m,\u001b[0m \u001b[0mvalue\u001b[0m\u001b[1;33m)\u001b[0m \u001b[1;33m->\u001b[0m \u001b[1;32mNone\u001b[0m\u001b[1;33m:\u001b[0m\u001b[1;33m\u001b[0m\u001b[1;33m\u001b[0m\u001b[0m\n",
      "\u001b[1;31mAttributeError\u001b[0m: 'Series' object has no attribute 'columns'"
     ]
    }
   ],
   "source": [
    "import pandas as pd\n",
    "xls = pd.ExcelFile('drive-download-20220302T205921Z-001/2021 DMD 1001 pre-class Assessment Survey (Responses).xlsx')\n",
    "xls1 = pd.ExcelFile('drive-download-20220302T205921Z-001/2020 DMD 1001 pre-class Assessment Survey (Responses).xlsx')\n",
    "xls2 = pd.ExcelFile('drive-download-20220302T205921Z-001/2019 DMD 1000 pre-class Assessment Survey (Responses).xlsx')\n",
    "xls3 = pd.ExcelFile('drive-download-20220302T205921Z-001/2018 DMD 1000 pre-class Assessment Survey (Responses).xlsx')\n",
    "xls4 = pd.ExcelFile('drive-download-20220302T205921Z-001/2017 DMD 1000 pre-class Assessment Survey (Responses).xlsx')\n",
    "xls5 = pd.ExcelFile('drive-download-20220302T205921Z-001/2016 DMD 1000 pre-class Assessment Survey (Responses).xlsx')\n",
    "xls6 = pd.ExcelFile('drive-download-20220302T205921Z-001/2015 DMD 1000 pre-class Assessment Survey (Responses).xlsx')\n",
    "\n",
    "\n",
    "pd.set_option('display.max_rows', 50)\n",
    "\n",
    "df1 = pd.read_excel(xls)\n",
    "df2 = pd.read_excel(xls1)\n",
    "df3 = pd.read_excel(xls2)\n",
    "df4 = pd.read_excel(xls3)\n",
    "df5 = pd.read_excel(xls4)\n",
    "df6 = pd.read_excel(xls5)\n",
    "df7 = pd.read_excel(xls6)\n",
    "df7.rename(columns = {\"Username\": \"Email Address\"}, inplace = True)\n",
    "\n",
    "\n",
    "frames = [df1, df2, df3, df4, df5, df6, df7]\n",
    "\n",
    "full_df = pd.concat(frames)\n",
    "full_df\n",
    "full_df.to_csv('assesmentfull.csv', encoding='utf-8', index=False)\n",
    "full_df.columns\n",
    "schoolsdf = full_df['Please list other universities you were accepted to and were considering in your application process:']\n",
    "schoolsdf.columns\n",
    "#schoolsdf['Please list other universities you were accepted to and were considering in your application process:'].str.split(',', expand=True)\n",
    "\n",
    "schoolsdf.to_csv('schools.csv', encoding='utf-8', index=False)\n"
   ]
  }
 ],
 "metadata": {
  "interpreter": {
   "hash": "d19741630c8afd4e4049d3e27fb8e1403b2f9bca4e0c60560bb535e20d83c78e"
  },
  "kernelspec": {
   "display_name": "Python 3.9.2 64-bit",
   "language": "python",
   "name": "python3"
  },
  "language_info": {
   "codemirror_mode": {
    "name": "ipython",
    "version": 3
   },
   "file_extension": ".py",
   "mimetype": "text/x-python",
   "name": "python",
   "nbconvert_exporter": "python",
   "pygments_lexer": "ipython3",
   "version": "3.9.2"
  },
  "orig_nbformat": 4
 },
 "nbformat": 4,
 "nbformat_minor": 2
}
