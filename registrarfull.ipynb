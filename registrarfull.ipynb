{
 "cells": [
  {
   "cell_type": "code",
   "execution_count": 88,
   "metadata": {},
   "outputs": [
    {
     "data": {
      "text/plain": [
       "['eot_census_1128.xlsx',\n",
       " 'eot_census_1133.xlsx',\n",
       " 'eot_census_1138.xlsx',\n",
       " 'eot_census_1143.xlsx',\n",
       " 'eot_census_1148.xlsx',\n",
       " 'eot_census_1153.xlsx',\n",
       " 'eot_census_1158.xlsx',\n",
       " 'eot_census_1163.xlsx',\n",
       " 'eot_census_1168.xlsx',\n",
       " 'eot_census_1173.xlsx',\n",
       " 'eot_census_1178.xlsx',\n",
       " 'eot_census_1183.xlsx',\n",
       " 'eot_census_1188.xlsx',\n",
       " 'eot_census_1193.xlsx',\n",
       " 'eot_census_1198.xlsx',\n",
       " 'eot_census_1203.xlsx',\n",
       " 'eot_census_1208.xlsx',\n",
       " 'eot_census_1213.xlsx',\n",
       " 'eot_census_1218.xlsx',\n",
       " 'regslist_all.xlsx']"
      ]
     },
     "execution_count": 88,
     "metadata": {},
     "output_type": "execute_result"
    }
   ],
   "source": [
    "import os\n",
    "import pandas as pd\n",
    "path = os.getcwd()\n",
    "files = os.listdir('Raw/registrar/')\n",
    "files\n",
    "files_xls = [f for f in files if f[-3:] == 'xlsx']\n",
    "files_xls\n",
    "df = pd.DataFrame()\n",
    "for f in files_xls:\n",
    "    data = pd.read_excel(f)\n",
    "    df = df.append(data)"
   ]
  },
  {
   "cell_type": "code",
   "execution_count": 58,
   "metadata": {},
   "outputs": [
    {
     "name": "stdout",
     "output_type": "stream",
     "text": [
      "297\n",
      "311\n"
     ]
    }
   ],
   "source": [
    "import pandas as pd\n",
    "xls = pd.ExcelFile('Raw/registrar/regslist_all.xlsx')\n",
    "#xls2 = pd.ExcelFile('Raw/registrar/eot_census_1218.xlsx')\n",
    "df = pd.read_excel(xls)\n",
    "#df2 = pd.read_excel(xls2)\n",
    "\n",
    "pd.set_option('display.max_rows', 25)\n",
    "\n",
    "df = df.loc[df['STRUC_ACAD_PLAN_LDESC'] == \"Digital Media and Design\"]\n",
    "#df2 = df2.loc[df2['STRUC_ACAD_PLAN_LDESC'] == \"Digital Media and Design\"]\n",
    "\n",
    "df = df.drop_duplicates(subset='STRUC_EMPLID', keep=\"first\")\n",
    "#df2 = df2.drop_duplicates(subset='STRUC_EMPLID', keep=\"first\")\n",
    "\n",
    "print (df.shape[0])\n",
    "#print (df2.shape[0])\n",
    "#df2.to_csv('df2.csv', encoding='utf-8', index=False)\n",
    "\n",
    "\n"
   ]
  },
  {
   "cell_type": "code",
   "execution_count": 83,
   "metadata": {},
   "outputs": [
    {
     "name": "stdout",
     "output_type": "stream",
     "text": [
      "Fall 2021\n",
      "297\n",
      "311\n",
      "608\n"
     ]
    },
    {
     "data": {
      "text/plain": [
       "Index(['STRUC_EMPLID', 'PERS_NAME', 'PERS_PREFERRED_FIRST_NAME',\n",
       "       'PERS_PREFERRED_MIDDLE_NAME', 'PERS_PREFERRED_LAST_NAME', 'PERS_FERPA',\n",
       "       'PERS_BIRTHDATE', 'PERS_GENDER_LDESC', 'PERS_GENDER',\n",
       "       'PERS_IPEDS_ALL_ETHNIC_GRP_LDESC', 'PERS_IPEDS_ALL_ETHNIC_GROUP',\n",
       "       'PERS_CITIZENSHIP_STATUS_LDESC', 'PERS_CITIZENSHIP_STATUS',\n",
       "       'Define_YN_VISA', 'UC_SATTR_ATTR', 'UC_SATTR_ATTR_VAL',\n",
       "       'CTERM_TERM_LDESC', 'CTERM_TERM_CD', 'Define_GRAD_AdmtTrm',\n",
       "       'Define_GRAD_AdmtTrmCd', 'STRUC_REQ_TERM_LDESC', 'STRUC_REQ_TERM',\n",
       "       'CTERM_ELIG_TO_ENROLL', 'CTERM_ACAD_LEVEL_BOT_LDESC',\n",
       "       'STFACT_UNT_TAKEN_PRGRSS', 'STFACT_TOT_CUMULATIVE', 'Fall 2021_Cum_GPA',\n",
       "       'STRUC_CAMPUS_LDESC', 'STRUC_ACAD_CAREER', 'STRUC_STDNT_CAR_NBR',\n",
       "       'STRUC_ACAD_PROG_LDESC', 'STRUC_ACAD_PROG', 'STRUC_ACAD_PLAN_LDESC',\n",
       "       'STRUC_ACAD_PLAN', 'STRUC_PLAN_TYPE_LDESC', 'STRUC_ACAD_SUB_PLAN_LDESC',\n",
       "       'STRUC_ACAD_SUB_PLAN', 'PERS_MAIL_ADDRESS1', 'PERS_MAIL_ADDRESS2',\n",
       "       'PERS_MAIL_ADDRESS3', 'PERS_MAIL_ADDRESS4', 'PERS_MAIL_CITY',\n",
       "       'PERS_MAIL_STATE', 'PERS_MAIL_POSTAL', 'PERS_MAIL_COUNTRY_LDESC',\n",
       "       'PERS_PHONE', 'PERS_EMAIL', 'ADDR_ADDRESS1', 'ADDR_ADDRESS2',\n",
       "       'ADDR_CITY', 'ADDR_STATE', 'ADDR_POSTAL', 'ADDR_PHONE_NUMBER',\n",
       "       'STRUC_ACAD_PROG_STATUS_LDESC', 'STRUC_ACAD_PROG_STATUS',\n",
       "       'STRUC_DEGR_CHECKOUT_LDESC', 'STRUC_DEGR_CHECKOUT_STAT',\n",
       "       'STRUC_EXP_GRAD_TERM_LDESC', 'STRUC_EXP_GRAD_TERM', 'ADVISOR_NAME',\n",
       "       'ADVISOR_EMAIL', 'STDAV_ADVISOR_ID'],\n",
       "      dtype='object')"
      ]
     },
     "execution_count": 83,
     "metadata": {},
     "output_type": "execute_result"
    }
   ],
   "source": [
    "term = df2['CTERM_TERM_LDESC'].iloc[1]\n",
    "term2 = df['CTERM_TERM_LDESC'].iloc[1]\n",
    "\n",
    "print (term)\n",
    "df2.rename(columns = {\"STFACT_CUM_GPA\": term + \"_Cum_GPA\"}, inplace = True)\n",
    "df.rename(columns = {\"STFACT_CUM_GPA\": term + \"_Cum_GPA\"}, inplace = True)\n",
    "# df.drop(['PERS_FERPA'], axis=1, inplace = True)\n",
    "# df.drop(['Define_YN_VISA'], axis=1, inplace = True)\n",
    "\n",
    "df3 = pd.merge(df, df2,  how='outer', left_on=['STRUC_EMPLID', 'PERS_NAME', 'PERS_PREFERRED_FIRST_NAME', 'PERS_PREFERRED_MIDDLE_NAME', 'PERS_PREFERRED_LAST_NAME', 'PERS_BIRTHDATE', 'PERS_GENDER_LDESC', 'PERS_GENDER', 'PERS_IPEDS_ALL_ETHNIC_GRP_LDESC', 'PERS_IPEDS_ALL_ETHNIC_GROUP', 'PERS_CITIZENSHIP_STATUS_LDESC', 'PERS_CITIZENSHIP_STATUS', 'Define_YN_VISA', 'UC_SATTR_ATTR', 'UC_SATTR_ATTR_VAL', 'CTERM_TERM_LDESC', 'CTERM_TERM_CD', 'Define_GRAD_AdmtTrm', 'Define_GRAD_AdmtTrmCd', 'STRUC_REQ_TERM_LDESC', 'STRUC_REQ_TERM', 'CTERM_ELIG_TO_ENROLL', 'CTERM_ACAD_LEVEL_BOT_LDESC', 'STFACT_UNT_TAKEN_PRGRSS', 'STRUC_CAMPUS_LDESC', 'STRUC_ACAD_CAREER', 'STRUC_ACAD_PROG_LDESC', 'STRUC_ACAD_PROG', 'STRUC_ACAD_PLAN_LDESC', 'STRUC_ACAD_PLAN', 'STRUC_PLAN_TYPE_LDESC', 'STRUC_ACAD_SUB_PLAN_LDESC', 'STRUC_ACAD_SUB_PLAN', 'PERS_MAIL_ADDRESS1', 'PERS_MAIL_ADDRESS2', 'PERS_MAIL_ADDRESS3', 'PERS_MAIL_ADDRESS4', 'PERS_MAIL_CITY', 'PERS_MAIL_STATE', 'PERS_MAIL_POSTAL', 'PERS_MAIL_COUNTRY_LDESC', 'PERS_PHONE', 'PERS_EMAIL', 'ADDR_ADDRESS1', 'ADDR_ADDRESS2', 'ADDR_CITY', 'ADDR_STATE', 'ADDR_POSTAL', 'ADDR_PHONE_NUMBER', 'STRUC_ACAD_PROG_STATUS_LDESC', 'STRUC_ACAD_PROG_STATUS', 'STRUC_DEGR_CHECKOUT_LDESC', 'STRUC_DEGR_CHECKOUT_STAT', 'STRUC_EXP_GRAD_TERM_LDESC', 'STRUC_EXP_GRAD_TERM', 'ADVISOR_NAME', 'ADVISOR_EMAIL'], right_on = ['STRUC_EMPLID', 'PERS_NAME', 'PERS_PREFERRED_FIRST_NAME', 'PERS_PREFERRED_MIDDLE_NAME', 'PERS_PREFERRED_LAST_NAME', 'PERS_BIRTHDATE', 'PERS_GENDER_LDESC', 'PERS_GENDER', 'PERS_IPEDS_ALL_ETHNIC_GRP_LDESC', 'PERS_IPEDS_ALL_ETHNIC_GROUP', 'PERS_CITIZENSHIP_STATUS_LDESC', 'PERS_CITIZENSHIP_STATUS', 'Define_YN_VISA', 'UC_SATTR_ATTR', 'UC_SATTR_ATTR_VAL', 'CTERM_TERM_LDESC', 'CTERM_TERM_CD', 'Define_GRAD_AdmtTrm', 'Define_GRAD_AdmtTrmCd', 'STRUC_REQ_TERM_LDESC', 'STRUC_REQ_TERM', 'CTERM_ELIG_TO_ENROLL', 'CTERM_ACAD_LEVEL_BOT_LDESC', 'STFACT_UNT_TAKEN_PRGRSS', 'STRUC_CAMPUS_LDESC', 'STRUC_ACAD_CAREER', 'STRUC_ACAD_PROG_LDESC', 'STRUC_ACAD_PROG', 'STRUC_ACAD_PLAN_LDESC', 'STRUC_ACAD_PLAN', 'STRUC_PLAN_TYPE_LDESC', 'STRUC_ACAD_SUB_PLAN_LDESC', 'STRUC_ACAD_SUB_PLAN', 'PERS_MAIL_ADDRESS1', 'PERS_MAIL_ADDRESS2', 'PERS_MAIL_ADDRESS3', 'PERS_MAIL_ADDRESS4', 'PERS_MAIL_CITY', 'PERS_MAIL_STATE', 'PERS_MAIL_POSTAL', 'PERS_MAIL_COUNTRY_LDESC', 'PERS_PHONE', 'PERS_EMAIL', 'ADDR_ADDRESS1', 'ADDR_ADDRESS2', 'ADDR_CITY', 'ADDR_STATE', 'ADDR_POSTAL', 'ADDR_PHONE_NUMBER', 'STRUC_ACAD_PROG_STATUS_LDESC', 'STRUC_ACAD_PROG_STATUS', 'STRUC_DEGR_CHECKOUT_LDESC', 'STRUC_DEGR_CHECKOUT_STAT', 'STRUC_EXP_GRAD_TERM_LDESC', 'STRUC_EXP_GRAD_TERM', 'ADVISOR_NAME', 'ADVISOR_EMAIL'])\n",
    "\n",
    "df.to_csv('df.csv', encoding='utf-8', index=False)\n",
    "df2.to_csv('df2.csv', encoding='utf-8', index=False)\n",
    "df3.to_csv('df3.csv', encoding='utf-8', index=False)\n",
    "\n",
    "print (df.shape[0])\n",
    "print (df2.shape[0])\n",
    "print (df3.shape[0])\n",
    "df2.columns"
   ]
  },
  {
   "cell_type": "code",
   "execution_count": null,
   "metadata": {},
   "outputs": [],
   "source": []
  }
 ],
 "metadata": {
  "interpreter": {
   "hash": "d19741630c8afd4e4049d3e27fb8e1403b2f9bca4e0c60560bb535e20d83c78e"
  },
  "kernelspec": {
   "display_name": "Python 3.9.2 64-bit",
   "language": "python",
   "name": "python3"
  },
  "language_info": {
   "codemirror_mode": {
    "name": "ipython",
    "version": 3
   },
   "file_extension": ".py",
   "mimetype": "text/x-python",
   "name": "python",
   "nbconvert_exporter": "python",
   "pygments_lexer": "ipython3",
   "version": "3.9.2"
  },
  "orig_nbformat": 4
 },
 "nbformat": 4,
 "nbformat_minor": 2
}
